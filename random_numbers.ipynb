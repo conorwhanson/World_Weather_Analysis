{
 "cells": [
  {
   "cell_type": "code",
   "execution_count": 23,
   "id": "44841486",
   "metadata": {},
   "outputs": [],
   "source": [
    "# numpy has built in random function, so no need to import random on its own\n",
    "import random\n",
    "import numpy as np"
   ]
  },
  {
   "cell_type": "code",
   "execution_count": 24,
   "id": "2be96a58",
   "metadata": {},
   "outputs": [
    {
     "data": {
      "text/plain": [
       "0.3816983422735819"
      ]
     },
     "execution_count": 24,
     "metadata": {},
     "output_type": "execute_result"
    }
   ],
   "source": [
    "# generates a single point float between 0.0 and 1.0\n",
    "random.random()"
   ]
  },
  {
   "cell_type": "code",
   "execution_count": 25,
   "id": "b24f09b3",
   "metadata": {
    "scrolled": true
   },
   "outputs": [
    {
     "data": {
      "text/plain": [
       "-1"
      ]
     },
     "execution_count": 25,
     "metadata": {},
     "output_type": "execute_result"
    }
   ],
   "source": [
    "random.randint(-10,10)"
   ]
  },
  {
   "cell_type": "code",
   "execution_count": 26,
   "id": "a50a6e84",
   "metadata": {},
   "outputs": [
    {
     "data": {
      "text/plain": [
       "0"
      ]
     },
     "execution_count": 26,
     "metadata": {},
     "output_type": "execute_result"
    }
   ],
   "source": [
    "random.randrange(-9,9,3)"
   ]
  },
  {
   "cell_type": "code",
   "execution_count": 27,
   "id": "93ac296f",
   "metadata": {},
   "outputs": [
    {
     "data": {
      "text/plain": [
       "9.52491920702121"
      ]
     },
     "execution_count": 27,
     "metadata": {},
     "output_type": "execute_result"
    }
   ],
   "source": [
    "random.uniform(-10,10)"
   ]
  },
  {
   "cell_type": "code",
   "execution_count": 28,
   "id": "b9e61c24",
   "metadata": {},
   "outputs": [
    {
     "data": {
      "text/plain": [
       "-6.742260177141597"
      ]
     },
     "execution_count": 28,
     "metadata": {},
     "output_type": "execute_result"
    }
   ],
   "source": [
    "# combine to create latitude\n",
    "random_latitude = random.random() + random.randint(-90, 89)\n",
    "random_latitude"
   ]
  },
  {
   "cell_type": "code",
   "execution_count": 29,
   "id": "1a827abe",
   "metadata": {},
   "outputs": [],
   "source": [
    "# create a while loop to collect a set number of randomly generated latitutdes\n",
    "latitudes = []\n",
    "x = 1\n",
    "while x < 11:\n",
    "    random_lat = random.random() + random.randint(-90, 89)\n",
    "    latitudes.append(random_lat)\n",
    "    x += 1"
   ]
  },
  {
   "cell_type": "code",
   "execution_count": 30,
   "id": "a2d34e92",
   "metadata": {},
   "outputs": [
    {
     "data": {
      "text/plain": [
       "[44.36179219161738,\n",
       " -65.28821426841354,\n",
       " 5.973537335818069,\n",
       " 73.01088786338003,\n",
       " -39.91537531837895,\n",
       " 49.246878094379724,\n",
       " -34.515794464447076,\n",
       " -80.38091281395528,\n",
       " -56.333458226774994,\n",
       " -8.337886779364595]"
      ]
     },
     "execution_count": 30,
     "metadata": {},
     "output_type": "execute_result"
    }
   ],
   "source": [
    "latitudes"
   ]
  },
  {
   "cell_type": "code",
   "execution_count": 31,
   "id": "fe145520",
   "metadata": {},
   "outputs": [],
   "source": [
    "# create a while loop to collect a set number of randomly generated longitudes\n",
    "longitudes = []\n",
    "x = 1\n",
    "while x < 11:\n",
    "    random_long = random.random() + random.randint(-90, 89)\n",
    "    longitudes.append(random_long)\n",
    "    x += 1\n"
   ]
  },
  {
   "cell_type": "code",
   "execution_count": 32,
   "id": "c4fa5343",
   "metadata": {},
   "outputs": [
    {
     "data": {
      "text/plain": [
       "[68.52206764251937,\n",
       " 85.9706213630362,\n",
       " 67.5459124011616,\n",
       " -5.993855030722608,\n",
       " -33.19720161140741,\n",
       " -15.214544168637646,\n",
       " 30.78107756312174,\n",
       " 29.73430572944728,\n",
       " 13.884366786351025,\n",
       " 64.68307119759825]"
      ]
     },
     "execution_count": 32,
     "metadata": {},
     "output_type": "execute_result"
    }
   ],
   "source": [
    "longitudes"
   ]
  },
  {
   "cell_type": "code",
   "execution_count": 33,
   "id": "0d0d7e4d",
   "metadata": {},
   "outputs": [
    {
     "data": {
      "text/plain": [
       "array([-74.40627308, -17.74082743,  15.61125764,  87.88985181,\n",
       "        46.24126379,  52.7997641 ,  34.59390488,  10.03714104,\n",
       "        -1.13830602, -74.97408289,  16.56542427,  27.98100017,\n",
       "        77.39872907, -70.82094092,  81.05120205, -57.13727584,\n",
       "       -77.60977409,  41.9520504 , -78.49822939, -88.99057096,\n",
       "       -24.49268905, -51.27793233,  17.12332585, -78.01830181,\n",
       "        20.54676753,  12.52915973, -80.55482734,  20.92437254,\n",
       "        -8.61532088, -31.6433948 , -66.61588276, -10.91420309,\n",
       "       -30.95644048,  52.49272484,  52.91381685, -47.26211443,\n",
       "        60.74127593, -48.48272216,  -5.34116682,   9.02081679,\n",
       "        21.64977018,  79.58346404,  75.87119055,  73.00685488,\n",
       "       -65.37834612, -10.05751746,  77.18324288,  20.80551251,\n",
       "        51.61827534,  30.07150464])"
      ]
     },
     "execution_count": 33,
     "metadata": {},
     "output_type": "execute_result"
    }
   ],
   "source": [
    "# generate lang/long using random.uniform()\n",
    "np.random.uniform(-90.000, 90.000, size = 50)"
   ]
  },
  {
   "cell_type": "code",
   "execution_count": 34,
   "id": "d526928e",
   "metadata": {},
   "outputs": [],
   "source": [
    "import timeit"
   ]
  },
  {
   "cell_type": "code",
   "execution_count": 35,
   "id": "168199fe",
   "metadata": {},
   "outputs": [
    {
     "name": "stdout",
     "output_type": "stream",
     "text": [
      "12.6 µs ± 21.4 ns per loop (mean ± std. dev. of 7 runs, 100000 loops each)\n"
     ]
    }
   ],
   "source": [
    "%timeit np.random.uniform(-90.000, 90.000, size = 1500)"
   ]
  },
  {
   "cell_type": "code",
   "execution_count": 36,
   "id": "c6503f9f",
   "metadata": {},
   "outputs": [
    {
     "name": "stdout",
     "output_type": "stream",
     "text": [
      "1.45 ms ± 9.55 µs per loop (mean ± std. dev. of 7 runs, 1000 loops each)\n"
     ]
    }
   ],
   "source": [
    "def latitudes(size):\n",
    "    latitudes = []\n",
    "    x = 0\n",
    "    while x < (size):\n",
    "        random_lat = random.randint(-90, 90) + random.random()\n",
    "        latitudes.append(random_lat)\n",
    "        x += 1\n",
    "    return latitudes\n",
    "# Call the function with 1500.\n",
    "%timeit latitudes(1500)"
   ]
  },
  {
   "cell_type": "code",
   "execution_count": null,
   "id": "787e8f8a",
   "metadata": {},
   "outputs": [],
   "source": []
  }
 ],
 "metadata": {
  "kernelspec": {
   "display_name": "PythonData",
   "language": "python",
   "name": "pythondata"
  },
  "language_info": {
   "codemirror_mode": {
    "name": "ipython",
    "version": 3
   },
   "file_extension": ".py",
   "mimetype": "text/x-python",
   "name": "python",
   "nbconvert_exporter": "python",
   "pygments_lexer": "ipython3",
   "version": "3.7.11"
  }
 },
 "nbformat": 4,
 "nbformat_minor": 5
}
