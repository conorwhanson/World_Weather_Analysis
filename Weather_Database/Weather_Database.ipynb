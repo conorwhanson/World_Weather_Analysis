{
 "cells": [
  {
   "cell_type": "code",
   "execution_count": 7,
   "id": "3689635f",
   "metadata": {},
   "outputs": [],
   "source": [
    "from citipy import citipy\n",
    "import numpy as np\n",
    "import pandas as pd\n",
    "import matplotlib.pyplot as plt\n",
    "import requests\n",
    "import time\n",
    "from datetime import datetime\n",
    "from config2 import weather_api_key"
   ]
  },
  {
   "cell_type": "code",
   "execution_count": 8,
   "id": "c5118ee4",
   "metadata": {},
   "outputs": [],
   "source": [
    "lats = np.random.uniform(low=-90.000, high=90.000, size=2000)\n",
    "longs = np.random.uniform(low=-180.000, high=180.000, size=2000)\n",
    "lats_longs = zip(lats, longs)"
   ]
  },
  {
   "cell_type": "code",
   "execution_count": 9,
   "id": "3e3457d3",
   "metadata": {},
   "outputs": [
    {
     "data": {
      "text/plain": [
       "771"
      ]
     },
     "execution_count": 9,
     "metadata": {},
     "output_type": "execute_result"
    }
   ],
   "source": [
    "# Create a list to hold cities\n",
    "cities = []\n",
    "\n",
    "# identify each city nearest to each set of coordinates\n",
    "for coordinates in lats_longs:\n",
    "    city = citipy.nearest_city(coordinates[0], coordinates[1]).city_name\n",
    "    \n",
    "    if city not in cities:\n",
    "        cities.append(city)\n",
    "len(cities)"
   ]
  },
  {
   "cell_type": "code",
   "execution_count": null,
   "id": "a9fc9681",
   "metadata": {},
   "outputs": [],
   "source": [
    "# 1. Create empty city list to hold cities\n",
    "city_data = []\n",
    "\n",
    "# print the start of logging\n",
    "print(\"Beginning Data Retrieval\")\n",
    "print(\"------------------------\")\n",
    "\n",
    "# create counters for looping through cities\n",
    "record_count = 1\n",
    "set_count = 1\n",
    "\n",
    "# 2. loop through cities\n",
    "for i, city in enumerate(cities):\n",
    "    # 3. group cities in sets of 50\n",
    "    if (i % 50 == 0 and i >=50):\n",
    "        set_count += 1\n",
    "        record_count += 1\n",
    "        time.sleep(60)\n",
    "\n",
    "    # 4. build city url endpoint for each city\n",
    "    city_url = url + \"&q=\" + city.replace(\" \", \"+\")\n",
    "    \n",
    "    # 5. log the url and record/set numbers\n",
    "    print(f\"Processing Record {record_count} of Set {set_count} | {city}\")\n",
    "    \n",
    "    # add 1 to record count\n",
    "    record_count += 1\n",
    "    \n",
    "    # 6. Run an API request for each of the cities.\n",
    "    try:\n",
    "        # 6. Parse the JSON and retrieve data.\n",
    "        city_weather = requests.get(city_url).json()\n",
    "        # 7. Parse out the needed data.\n",
    "        city_lat = city_weather[\"coord\"][\"lat\"]\n",
    "        city_lng = city_weather[\"coord\"][\"lon\"]\n",
    "        city_max_temp = city_weather[\"main\"][\"temp_max\"]\n",
    "        city_humidity = city_weather[\"main\"][\"humidity\"]\n",
    "        city_clouds = city_weather[\"clouds\"][\"all\"]\n",
    "        city_wind = city_weather[\"wind\"][\"speed\"]\n",
    "        city_country = city_weather[\"sys\"][\"country\"]\n",
    "        # 8. Convert the date to ISO standard.\n",
    "        city_date = datetime.utcfromtimestamp(city_weather[\"dt\"]).strftime('%Y-%m-%d %H:%M:%S')\n",
    "        # Append the city information into city_data list.\n",
    "        city_data.append({\"City\": city.title(),\n",
    "                          \"Lat\": city_lat,\n",
    "                          \"Lng\": city_lng,\n",
    "                          \"Max Temp\": city_max_temp,\n",
    "                          \"Humidity\": city_humidity,\n",
    "                          \"Cloudiness\": city_clouds,\n",
    "                          \"Wind Speed\": city_wind,\n",
    "                          \"Country\": city_country,\n",
    "                          \"Date\": city_date})\n",
    "\n",
    "# If an error is experienced, skip the city.\n",
    "    except:\n",
    "        print(\"City not found. Skipping...\")\n",
    "        pass\n",
    "\n",
    "# Indicate that Data Loading is complete.\n",
    "print(\"-----------------------------\")\n",
    "print(\"Data Retrieval Complete      \")\n",
    "print(\"-----------------------------\")"
   ]
  },
  {
   "cell_type": "code",
   "execution_count": null,
   "id": "9bf252e1",
   "metadata": {},
   "outputs": [],
   "source": [
    "# convert the array of JSON dict into dataframe\n",
    "city_data_df = pd.DataFrame(city_data)\n",
    "city_data_df.head()"
   ]
  },
  {
   "cell_type": "code",
   "execution_count": null,
   "id": "733d82df",
   "metadata": {},
   "outputs": [],
   "source": [
    "# reorder columns\n",
    "city_data2_df = [\"City\", \"Country\", \"Date\", \"Lat\", \"Lng\", \"Max Temp\", \"Humidity\", \"Cloudiness\", \"Wind Speed\"]\n",
    "city_data2_df = city_data_df[city_data2_df]"
   ]
  },
  {
   "cell_type": "code",
   "execution_count": null,
   "id": "88d65d68",
   "metadata": {},
   "outputs": [],
   "source": [
    "city_data2_df.head(10)"
   ]
  },
  {
   "cell_type": "code",
   "execution_count": null,
   "id": "4a6e78d1",
   "metadata": {},
   "outputs": [],
   "source": [
    "# create file output and save city_data2_df in the csv\n",
    "save_file = \"Weather_Database/WeatherPy_DataBase.csv\"\n",
    "city_data2_df.to_csv(save_file, index_label=\"City ID\")"
   ]
  },
  {
   "cell_type": "code",
   "execution_count": null,
   "id": "8a48178c",
   "metadata": {},
   "outputs": [],
   "source": []
  },
  {
   "cell_type": "code",
   "execution_count": null,
   "id": "aecf958f",
   "metadata": {},
   "outputs": [],
   "source": []
  },
  {
   "cell_type": "code",
   "execution_count": null,
   "id": "190123f4",
   "metadata": {},
   "outputs": [],
   "source": []
  },
  {
   "cell_type": "code",
   "execution_count": null,
   "id": "d23d80e9",
   "metadata": {},
   "outputs": [],
   "source": []
  }
 ],
 "metadata": {
  "kernelspec": {
   "display_name": "PythonData",
   "language": "python",
   "name": "pythondata"
  },
  "language_info": {
   "codemirror_mode": {
    "name": "ipython",
    "version": 3
   },
   "file_extension": ".py",
   "mimetype": "text/x-python",
   "name": "python",
   "nbconvert_exporter": "python",
   "pygments_lexer": "ipython3",
   "version": "3.7.11"
  }
 },
 "nbformat": 4,
 "nbformat_minor": 5
}
