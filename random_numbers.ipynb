{
 "cells": [
  {
   "cell_type": "code",
   "execution_count": 20,
   "id": "44841486",
   "metadata": {},
   "outputs": [],
   "source": [
    "# numpy has built in random function, so no need to import random on its own\n",
    "import random\n",
    "import numpy as np\n",
    "from scipy.stats import linregress\n",
    "import matplotlib.pyplot as plt"
   ]
  },
  {
   "cell_type": "code",
   "execution_count": 21,
   "id": "2be96a58",
   "metadata": {},
   "outputs": [
    {
     "data": {
      "text/plain": [
       "0.8177093317508817"
      ]
     },
     "execution_count": 21,
     "metadata": {},
     "output_type": "execute_result"
    }
   ],
   "source": [
    "# generates a single point float between 0.0 and 1.0\n",
    "random.random()"
   ]
  },
  {
   "cell_type": "code",
   "execution_count": 22,
   "id": "b24f09b3",
   "metadata": {
    "scrolled": true
   },
   "outputs": [
    {
     "data": {
      "text/plain": [
       "9"
      ]
     },
     "execution_count": 22,
     "metadata": {},
     "output_type": "execute_result"
    }
   ],
   "source": [
    "random.randint(-10,10)"
   ]
  },
  {
   "cell_type": "code",
   "execution_count": 23,
   "id": "a50a6e84",
   "metadata": {},
   "outputs": [
    {
     "data": {
      "text/plain": [
       "3"
      ]
     },
     "execution_count": 23,
     "metadata": {},
     "output_type": "execute_result"
    }
   ],
   "source": [
    "random.randrange(-9,9,3)"
   ]
  },
  {
   "cell_type": "code",
   "execution_count": 24,
   "id": "93ac296f",
   "metadata": {},
   "outputs": [
    {
     "data": {
      "text/plain": [
       "-6.512967307186825"
      ]
     },
     "execution_count": 24,
     "metadata": {},
     "output_type": "execute_result"
    }
   ],
   "source": [
    "random.uniform(-10,10)"
   ]
  },
  {
   "cell_type": "code",
   "execution_count": 25,
   "id": "b9e61c24",
   "metadata": {},
   "outputs": [
    {
     "data": {
      "text/plain": [
       "-53.04790770785657"
      ]
     },
     "execution_count": 25,
     "metadata": {},
     "output_type": "execute_result"
    }
   ],
   "source": [
    "# combine to create latitude\n",
    "random_latitude = random.random() + random.randint(-90, 89)\n",
    "random_latitude"
   ]
  },
  {
   "cell_type": "code",
   "execution_count": 26,
   "id": "1a827abe",
   "metadata": {},
   "outputs": [],
   "source": [
    "# create a while loop to collect a set number of randomly generated latitutdes\n",
    "latitudes = []\n",
    "x = 1\n",
    "while x < 11:\n",
    "    random_lat = random.random() + random.randint(-90, 89)\n",
    "    latitudes.append(random_lat)\n",
    "    x += 1"
   ]
  },
  {
   "cell_type": "code",
   "execution_count": 27,
   "id": "a2d34e92",
   "metadata": {},
   "outputs": [
    {
     "data": {
      "text/plain": [
       "[-71.31180851008259,\n",
       " 75.79319683831676,\n",
       " 56.71739178627414,\n",
       " 38.91446918093287,\n",
       " -38.774250924210946,\n",
       " 15.34460759234337,\n",
       " 38.43710960339154,\n",
       " 31.560060122338708,\n",
       " -21.35582424628062,\n",
       " -2.753164704006818]"
      ]
     },
     "execution_count": 27,
     "metadata": {},
     "output_type": "execute_result"
    }
   ],
   "source": [
    "latitudes"
   ]
  },
  {
   "cell_type": "code",
   "execution_count": 28,
   "id": "fe145520",
   "metadata": {},
   "outputs": [],
   "source": [
    "# create a while loop to collect a set number of randomly generated longitudes\n",
    "longitudes = []\n",
    "x = 1\n",
    "while x < 11:\n",
    "    random_long = random.random() + random.randint(-90, 89)\n",
    "    longitudes.append(random_long)\n",
    "    x += 1\n"
   ]
  },
  {
   "cell_type": "code",
   "execution_count": 29,
   "id": "c4fa5343",
   "metadata": {},
   "outputs": [
    {
     "data": {
      "text/plain": [
       "[19.711120000974557,\n",
       " -23.287371599446846,\n",
       " 28.787100500163806,\n",
       " -43.227101816740365,\n",
       " -86.07790873003734,\n",
       " 73.9087518935218,\n",
       " -19.542477249969757,\n",
       " -7.9477551375839575,\n",
       " 86.40194547065137,\n",
       " -23.91542641955342]"
      ]
     },
     "execution_count": 29,
     "metadata": {},
     "output_type": "execute_result"
    }
   ],
   "source": [
    "longitudes"
   ]
  },
  {
   "cell_type": "code",
   "execution_count": 30,
   "id": "0d0d7e4d",
   "metadata": {},
   "outputs": [
    {
     "data": {
      "text/plain": [
       "array([-47.44478916,   1.80487446,  51.32712239,  49.94833163,\n",
       "       -68.66506611,  -4.47655636,  23.20045635, -16.37549779,\n",
       "        12.92460448,  56.01803478, -12.6050968 ,  -5.35844607,\n",
       "         1.28525925,  23.9524823 , -46.87746417,   1.02348095,\n",
       "         5.53485985,  25.81542855,  80.88300175, -21.1453542 ,\n",
       "        -5.18885791,  54.92889185, -73.26432683,  43.41433962,\n",
       "       -40.79302708,  67.77997724,  73.85032339,  14.70865916,\n",
       "       -76.32045527, -56.04578652,  78.61614079,  81.84560529,\n",
       "        15.80439281, -56.04491964,  -6.44113507,  18.01659262,\n",
       "        54.54552187,  58.70600435,  31.41128202, -51.51310062,\n",
       "       -49.77600345,   1.23731765,  81.26347402,  -2.81748196,\n",
       "        79.3088448 ,   8.57693277,  -7.11965211, -49.54557671,\n",
       "        20.10754339, -52.9906613 ])"
      ]
     },
     "execution_count": 30,
     "metadata": {},
     "output_type": "execute_result"
    }
   ],
   "source": [
    "# generate lang/long using random.uniform()\n",
    "np.random.uniform(-90.000, 90.000, size = 50)"
   ]
  },
  {
   "cell_type": "code",
   "execution_count": 31,
   "id": "d526928e",
   "metadata": {},
   "outputs": [],
   "source": [
    "import timeit"
   ]
  },
  {
   "cell_type": "code",
   "execution_count": 32,
   "id": "168199fe",
   "metadata": {},
   "outputs": [
    {
     "name": "stdout",
     "output_type": "stream",
     "text": [
      "12.7 µs ± 7.43 ns per loop (mean ± std. dev. of 7 runs, 100000 loops each)\n"
     ]
    }
   ],
   "source": [
    "%timeit np.random.uniform(-90.000, 90.000, size = 1500)"
   ]
  },
  {
   "cell_type": "code",
   "execution_count": 33,
   "id": "c6503f9f",
   "metadata": {},
   "outputs": [
    {
     "name": "stdout",
     "output_type": "stream",
     "text": [
      "1.58 ms ± 1.88 µs per loop (mean ± std. dev. of 7 runs, 1000 loops each)\n"
     ]
    }
   ],
   "source": [
    "def latitudes(size):\n",
    "    latitudes = []\n",
    "    x = 0\n",
    "    while x < (size):\n",
    "        random_lat = random.randint(-90, 90) + random.random()\n",
    "        latitudes.append(random_lat)\n",
    "        x += 1\n",
    "    return latitudes\n",
    "# Call the function with 1500.\n",
    "%timeit latitudes(1500)"
   ]
  },
  {
   "cell_type": "code",
   "execution_count": 34,
   "id": "787e8f8a",
   "metadata": {},
   "outputs": [],
   "source": [
    "# Create an equal number of latitudes and temperatures.\n",
    "lats = [42.5, 43.9, 8.1, 36.8, 79.9, 69.1, 25.7, 15.3, 12.7, 64.5]\n",
    "temps = [80.5, 75.3, 90.9, 90.0, 40.4, 62.3, 85.4, 79.6, 72.5, 72.0]"
   ]
  },
  {
   "cell_type": "code",
   "execution_count": 35,
   "id": "ba11d3ce",
   "metadata": {},
   "outputs": [
    {
     "name": "stdout",
     "output_type": "stream",
     "text": [
      "y = -0.45x + 92.94\n",
      "The p-value is: 0.011\n"
     ]
    }
   ],
   "source": [
    "# use linregress to calculate linear regression\n",
    "(slope, intercept, r_value, p_value, std_err) = linregress(lats, temps)\n",
    "# Get the equation of the line.\n",
    "line_eq = \"y = \" + str(round(slope,2)) + \"x + \" + str(round(intercept,2))\n",
    "print(line_eq)\n",
    "print(f\"The p-value is: {p_value:.3f}\")"
   ]
  },
  {
   "cell_type": "code",
   "execution_count": 36,
   "id": "3b83d5cd",
   "metadata": {},
   "outputs": [],
   "source": [
    "# calculate regression line from slope and intercept\n",
    "regress_values = [(lat * slope + intercept) for lat in lats]"
   ]
  },
  {
   "cell_type": "code",
   "execution_count": 40,
   "id": "cd810c05",
   "metadata": {},
   "outputs": [
    {
     "data": {
      "image/png": "[encoded data removed]",
      "text/plain": [
       "<Figure size 432x288 with 1 Axes>"
      ]
     },
     "metadata": {
      "needs_background": "light"
     },
     "output_type": "display_data"
    }
   ],
   "source": [
    "plt.scatter(lats, temps)\n",
    "# plot the regression line with x-values and y coord based on slope and intercept\n",
    "plt.plot(lats, regress_values, \"r\")\n",
    "# format\n",
    "plt.annotate(line_eq, (10,40), fontsize=15, color=\"red\")\n",
    "plt.xlabel(\"Latitude\")\n",
    "plt.ylabel(\"Temp (F)\")\n",
    "plt.show()"
   ]
  },
  {
   "cell_type": "code",
   "execution_count": null,
   "id": "83bf7d17",
   "metadata": {},
   "outputs": [],
   "source": []
  }
 ],
 "metadata": {
  "kernelspec": {
   "display_name": "PythonData",
   "language": "python",
   "name": "pythondata"
  },
  "language_info": {
   "codemirror_mode": {
    "name": "ipython",
    "version": 3
   },
   "file_extension": ".py",
   "mimetype": "text/x-python",
   "name": "python",
   "nbconvert_exporter": "python",
   "pygments_lexer": "ipython3",
   "version": "3.7.11"
  }
 },
 "nbformat": 4,
 "nbformat_minor": 5
}
