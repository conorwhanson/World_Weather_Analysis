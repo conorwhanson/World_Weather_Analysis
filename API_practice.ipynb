{
 "cells": [
  {
   "cell_type": "code",
   "execution_count": 1,
   "id": "886ba657",
   "metadata": {},
   "outputs": [],
   "source": [
    "import pandas as pd\n",
    "import matplotlib.pyplot as plt\n",
    "import numpy as np\n",
    "import requests\n",
    "from config import weather_api_key\n",
    "from datetime import datetime"
   ]
  },
  {
   "cell_type": "code",
   "execution_count": 2,
   "id": "128bae3c",
   "metadata": {},
   "outputs": [
    {
     "data": {
      "text/plain": [
       "[(25.12903645, -67.59741259),\n",
       " (25.92017388, 11.09532135),\n",
       " (26.62509167, 74.84233102),\n",
       " (-59.98969384, -76.89176677),\n",
       " (37.30571269, -61.13376282)]"
      ]
     },
     "execution_count": 2,
     "metadata": {},
     "output_type": "execute_result"
    }
   ],
   "source": [
    "# Create a practice set of random latitude and longitude combinations.\n",
    "x = [25.12903645, 25.92017388, 26.62509167, -59.98969384, 37.30571269]\n",
    "y = [-67.59741259, 11.09532135, 74.84233102, -76.89176677, -61.13376282]\n",
    "coordinates = list(zip(x, y))\n",
    "coordinates"
   ]
  },
  {
   "cell_type": "code",
   "execution_count": 3,
   "id": "80716b5e",
   "metadata": {},
   "outputs": [],
   "source": [
    "from citipy import citipy"
   ]
  },
  {
   "cell_type": "code",
   "execution_count": 4,
   "id": "c24a154a",
   "metadata": {},
   "outputs": [
    {
     "name": "stdout",
     "output_type": "stream",
     "text": [
      "cockburn town tc\n",
      "gat ly\n",
      "parvatsar in\n",
      "punta arenas cl\n",
      "saint george bm\n"
     ]
    }
   ],
   "source": [
    "# Use the tuple() function to display the latitude and longitude combinations.\n",
    "for coordinate in coordinates:\n",
    "    print(citipy.nearest_city(coordinate[0], coordinate[1]).city_name,\n",
    "          citipy.nearest_city(coordinate[0], coordinate[1]).country_code)"
   ]
  },
  {
   "cell_type": "code",
   "execution_count": 5,
   "id": "2ee56d0f",
   "metadata": {},
   "outputs": [
    {
     "name": "stdout",
     "output_type": "stream",
     "text": [
      "http://api.openweathermap.org/data/2.5/weather?units=Imperial&APPID=a494e3dbbaae1e297619fe14b3ea56e0\n"
     ]
    }
   ],
   "source": [
    "# get URL for weather map API call\n",
    "url = \"http://api.openweathermap.org/data/2.5/weather?units=Imperial&APPID=\" + weather_api_key\n",
    "print(url)"
   ]
  },
  {
   "cell_type": "code",
   "execution_count": 6,
   "id": "437cdd07",
   "metadata": {},
   "outputs": [
    {
     "name": "stdout",
     "output_type": "stream",
     "text": [
      "http://api.openweathermap.org/data/2.5/weather?units=Imperial&APPID=a494e3dbbaae1e297619fe14b3ea56e0&q=Anoka\n"
     ]
    }
   ],
   "source": [
    "city_url = url + \"&q=\" + \"Anoka\"\n",
    "print(city_url)"
   ]
  },
  {
   "cell_type": "code",
   "execution_count": 11,
   "id": "c29bc56a",
   "metadata": {},
   "outputs": [
    {
     "name": "stdout",
     "output_type": "stream",
     "text": [
      "https://api.openweathermap.org/data/2.5/weather?lat=42.3584&lon=-71.0598&appid=a494e3dbbaae1e297619fe14b3ea56e0\n"
     ]
    }
   ],
   "source": [
    "# create url by lat and long\n",
    "coord_url = \"https://api.openweathermap.org/data/2.5/weather?lat=42.3584&lon=-71.0598&appid=\" + weather_api_key\n",
    "print(coord_url)"
   ]
  },
  {
   "cell_type": "code",
   "execution_count": 12,
   "id": "51beb12f",
   "metadata": {},
   "outputs": [],
   "source": [
    "# base url for openweather api call based on city\n",
    "# weat_url = \"https://api.openweathermap.org/data/2.5/weather?\"\n",
    "# total url will be weat_url + \"appid=\" + weather_api_key + \"&q=\" + city"
   ]
  },
  {
   "cell_type": "code",
   "execution_count": 13,
   "id": "6bec5710",
   "metadata": {},
   "outputs": [],
   "source": [
    "# save JSON as output\n",
    "city_weather = requests.get(city_url)\n",
    "weather_json = city_weather.json()"
   ]
  },
  {
   "cell_type": "code",
   "execution_count": 14,
   "id": "82f22b12",
   "metadata": {},
   "outputs": [
    {
     "data": {
      "text/plain": [
       "dict_keys(['coord', 'weather', 'base', 'main', 'visibility', 'wind', 'clouds', 'dt', 'sys', 'timezone', 'id', 'name', 'cod'])"
      ]
     },
     "execution_count": 14,
     "metadata": {},
     "output_type": "execute_result"
    }
   ],
   "source": [
    "weather_json.keys()"
   ]
  },
  {
   "cell_type": "code",
   "execution_count": 15,
   "id": "f77991aa",
   "metadata": {},
   "outputs": [
    {
     "data": {
      "text/plain": [
       "{'temp': 41.79,\n",
       " 'feels_like': 33.85,\n",
       " 'temp_min': 39.33,\n",
       " 'temp_max': 43.05,\n",
       " 'pressure': 1014,\n",
       " 'humidity': 74}"
      ]
     },
     "execution_count": 15,
     "metadata": {},
     "output_type": "execute_result"
    }
   ],
   "source": [
    "weather_json.get(\"main\")"
   ]
  },
  {
   "cell_type": "code",
   "execution_count": 16,
   "id": "c2abe4c2",
   "metadata": {},
   "outputs": [
    {
     "data": {
      "text/plain": [
       "'{\"coord\":{\"lon\":-93.2508,\"lat\":45.2505},\"weather\":[{\"id\":804,\"main\":\"Clouds\",\"description\":\"overcast clouds\",\"icon\":\"04d\"}],\"base\":\"stations\",\"main\":{\"temp\":41.79,\"feels_like\":33.85,\"temp_min\":39.33,\"temp_max\":43.05,\"pressure\":1014,\"humidity\":74},\"visibility\":10000,\"wind\":{\"speed\":15.99,\"deg\":319,\"gust\":20},\"clouds\":{\"all\":100},\"dt\":1651503013,\"sys\":{\"type\":2,\"id\":2003514,\"country\":\"US\",\"sunrise\":1651489204,\"sunset\":1651540783},\"timezone\":-18000,\"id\":5016452,\"name\":\"Anoka\",\"cod\":200}'"
      ]
     },
     "execution_count": 16,
     "metadata": {},
     "output_type": "execute_result"
    }
   ],
   "source": [
    "# Get the data from response\n",
    "city_weather.text"
   ]
  },
  {
   "cell_type": "code",
   "execution_count": 17,
   "id": "9088c3f8",
   "metadata": {},
   "outputs": [
    {
     "data": {
      "text/plain": [
       "{'coord': {'lon': -93.2508, 'lat': 45.2505},\n",
       " 'weather': [{'id': 804,\n",
       "   'main': 'Clouds',\n",
       "   'description': 'overcast clouds',\n",
       "   'icon': '04d'}],\n",
       " 'base': 'stations',\n",
       " 'main': {'temp': 41.79,\n",
       "  'feels_like': 33.85,\n",
       "  'temp_min': 39.33,\n",
       "  'temp_max': 43.05,\n",
       "  'pressure': 1014,\n",
       "  'humidity': 74},\n",
       " 'visibility': 10000,\n",
       " 'wind': {'speed': 15.99, 'deg': 319, 'gust': 20},\n",
       " 'clouds': {'all': 100},\n",
       " 'dt': 1651503013,\n",
       " 'sys': {'type': 2,\n",
       "  'id': 2003514,\n",
       "  'country': 'US',\n",
       "  'sunrise': 1651489204,\n",
       "  'sunset': 1651540783},\n",
       " 'timezone': -18000,\n",
       " 'id': 5016452,\n",
       " 'name': 'Anoka',\n",
       " 'cod': 200}"
      ]
     },
     "execution_count": 17,
     "metadata": {},
     "output_type": "execute_result"
    }
   ],
   "source": [
    "# get weather data as JSON\n",
    "city_weather.json()"
   ]
  },
  {
   "cell_type": "code",
   "execution_count": 18,
   "id": "b596aefc",
   "metadata": {},
   "outputs": [
    {
     "name": "stdout",
     "output_type": "stream",
     "text": [
      "City Weather found.\n"
     ]
    }
   ],
   "source": [
    "# Create an endpoint URL for a city and test if request worked with conditional\n",
    "city_url = url + \"&q=\" + \"Anoka\"\n",
    "city_weather = requests.get(city_url)\n",
    "if city_weather.status_code == 200:\n",
    "    print(f\"City Weather found.\")\n",
    "else:\n",
    "    print(f\"City weather not found.\")"
   ]
  },
  {
   "cell_type": "code",
   "execution_count": 19,
   "id": "85a5a662",
   "metadata": {},
   "outputs": [
    {
     "data": {
      "text/plain": [
       "'US'"
      ]
     },
     "execution_count": 19,
     "metadata": {},
     "output_type": "execute_result"
    }
   ],
   "source": [
    "# Parse response frmo API\n",
    "Anoka_data = city_weather.json()\n",
    "Anoka_data[\"sys\"][\"country\"]"
   ]
  },
  {
   "cell_type": "code",
   "execution_count": 20,
   "id": "ae2a6f4e",
   "metadata": {},
   "outputs": [
    {
     "name": "stdout",
     "output_type": "stream",
     "text": [
      "45.2505 -93.2508 43.05 74 100 15.99\n"
     ]
    }
   ],
   "source": [
    "# define variables for various data pulled from Boston data\n",
    "lat = Anoka_data[\"coord\"][\"lat\"]\n",
    "lng = Anoka_data[\"coord\"][\"lon\"]\n",
    "max_temp = Anoka_data[\"main\"][\"temp_max\"]\n",
    "humidity = Anoka_data[\"main\"][\"humidity\"]\n",
    "clouds = Anoka_data[\"clouds\"][\"all\"]\n",
    "wind = Anoka_data[\"wind\"][\"speed\"]\n",
    "print(lat, lng, max_temp, humidity, clouds, wind)"
   ]
  },
  {
   "cell_type": "code",
   "execution_count": 21,
   "id": "32a8ac21",
   "metadata": {},
   "outputs": [
    {
     "data": {
      "text/plain": [
       "'2022-05-02 14:50:13'"
      ]
     },
     "execution_count": 21,
     "metadata": {},
     "output_type": "execute_result"
    }
   ],
   "source": [
    "# get date and convert it to datetime\n",
    "date = Anoka_data[\"dt\"]\n",
    "datetime.utcfromtimestamp(date).strftime('%Y-%m-%d %H:%M:%S')"
   ]
  },
  {
   "cell_type": "code",
   "execution_count": null,
   "id": "09686d50",
   "metadata": {},
   "outputs": [],
   "source": []
  }
 ],
 "metadata": {
  "kernelspec": {
   "display_name": "PythonData",
   "language": "python",
   "name": "pythondata"
  },
  "language_info": {
   "codemirror_mode": {
    "name": "ipython",
    "version": 3
   },
   "file_extension": ".py",
   "mimetype": "text/x-python",
   "name": "python",
   "nbconvert_exporter": "python",
   "pygments_lexer": "ipython3",
   "version": "3.7.11"
  }
 },
 "nbformat": 4,
 "nbformat_minor": 5
}
